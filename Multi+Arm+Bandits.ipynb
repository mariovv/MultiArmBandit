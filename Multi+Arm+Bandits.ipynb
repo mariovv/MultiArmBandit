{
 "cells": [
  {
   "cell_type": "markdown",
   "metadata": {},
   "source": [
    "## Step by Step Multi Arm Bandit based on Thompson Sampling\n",
    "\n",
    "Content created by:\n",
    "\n",
    "Mario A. Vinasco and Sneha Ravi \n",
    "(Marketing Analytics at Uber Technologies)\n",
    "\n",
    "Multi Arm Bandit (MAB) experimentation is a type of dynamic testing that allocates new treatment units to the\n",
    "'winning' arms.\n",
    "\n",
    "In this particular case, we are interested in testing 10 subject lines and evaluate which one works best.\n",
    "\n",
    "We conduct the experiment for several rounds and re allocate the proportion of users that receive each subject line accoring to a Thompson Sampling allocation.\n"
   ]
  },
  {
   "cell_type": "code",
   "execution_count": 262,
   "metadata": {
    "collapsed": true
   },
   "outputs": [],
   "source": [
    "import scipy.stats as stats\n",
    "import numpy as np\n",
    "import pymc3 as pm\n",
    "import pandas as pd\n",
    "from IPython.core.pylabtools import figsize\n",
    "import matplotlib.pyplot as plt\n",
    "%matplotlib inline"
   ]
  },
  {
   "cell_type": "markdown",
   "metadata": {},
   "source": [
    "### The data for this tutorials was simulated from a Subject Line email campaign with 10 arms\n",
    "Data source: multi_arm_bandit_example_distrib.csv \n",
    "\n",
    "Simulated data of approximately 2000 users in each arm with open rates around 33%"
   ]
  },
  {
   "cell_type": "code",
   "execution_count": 524,
   "metadata": {
    "collapsed": false
   },
   "outputs": [
    {
     "data": {
      "text/html": [
       "<div>\n",
       "<table border=\"1\" class=\"dataframe\">\n",
       "  <thead>\n",
       "    <tr style=\"text-align: right;\">\n",
       "      <th></th>\n",
       "      <th>date</th>\n",
       "      <th>email_opened</th>\n",
       "      <th>response</th>\n",
       "      <th>treatment_group_key</th>\n",
       "      <th>UUID_hash2</th>\n",
       "    </tr>\n",
       "  </thead>\n",
       "  <tbody>\n",
       "    <tr>\n",
       "      <th>0</th>\n",
       "      <td>2017-11-22</td>\n",
       "      <td>0.0</td>\n",
       "      <td>0</td>\n",
       "      <td>t10</td>\n",
       "      <td>7046538529512660515</td>\n",
       "    </tr>\n",
       "    <tr>\n",
       "      <th>1</th>\n",
       "      <td>2017-11-26</td>\n",
       "      <td>0.0</td>\n",
       "      <td>0</td>\n",
       "      <td>t4</td>\n",
       "      <td>2553545477797482936</td>\n",
       "    </tr>\n",
       "  </tbody>\n",
       "</table>\n",
       "</div>"
      ],
      "text/plain": [
       "         date  email_opened  response treatment_group_key           UUID_hash2\n",
       "0  2017-11-22           0.0         0                 t10  7046538529512660515\n",
       "1  2017-11-26           0.0         0                  t4  2553545477797482936"
      ]
     },
     "execution_count": 524,
     "metadata": {},
     "output_type": "execute_result"
    }
   ],
   "source": [
    "# READ DATA\n",
    "experiment_df = pd.read_csv('multi_arm_bandit_example_distrib.csv')\n",
    "experiment_df.drop(['Unnamed: 0'], axis=1, inplace=True)\n",
    "experiment_df.head(2)"
   ]
  },
  {
   "cell_type": "code",
   "execution_count": 525,
   "metadata": {
    "collapsed": false
   },
   "outputs": [
    {
     "data": {
      "text/html": [
       "<div>\n",
       "<table border=\"1\" class=\"dataframe\">\n",
       "  <thead>\n",
       "    <tr style=\"text-align: right;\">\n",
       "      <th></th>\n",
       "      <th>UUID_hash2</th>\n",
       "    </tr>\n",
       "    <tr>\n",
       "      <th>date</th>\n",
       "      <th></th>\n",
       "    </tr>\n",
       "  </thead>\n",
       "  <tbody>\n",
       "    <tr>\n",
       "      <th>2017-11-22</th>\n",
       "      <td>1996</td>\n",
       "    </tr>\n",
       "    <tr>\n",
       "      <th>2017-11-23</th>\n",
       "      <td>3107</td>\n",
       "    </tr>\n",
       "    <tr>\n",
       "      <th>2017-11-24</th>\n",
       "      <td>4250</td>\n",
       "    </tr>\n",
       "    <tr>\n",
       "      <th>2017-11-25</th>\n",
       "      <td>5462</td>\n",
       "    </tr>\n",
       "    <tr>\n",
       "      <th>2017-11-26</th>\n",
       "      <td>5421</td>\n",
       "    </tr>\n",
       "  </tbody>\n",
       "</table>\n",
       "</div>"
      ],
      "text/plain": [
       "            UUID_hash2\n",
       "date                  \n",
       "2017-11-22        1996\n",
       "2017-11-23        3107\n",
       "2017-11-24        4250\n",
       "2017-11-25        5462\n",
       "2017-11-26        5421"
      ]
     },
     "execution_count": 525,
     "metadata": {},
     "output_type": "execute_result"
    }
   ],
   "source": [
    "experiment_df[['UUID_hash2', 'date']].groupby('date').count()"
   ]
  },
  {
   "cell_type": "code",
   "execution_count": 526,
   "metadata": {
    "collapsed": true
   },
   "outputs": [],
   "source": [
    "# drop un-needed columns\n",
    "experiment_df.drop(['email_opened'], axis=1, inplace=True)\n",
    "experiment_df.drop(['date'], axis=1, inplace=True)\n",
    "experiment_df.drop(['UUID_hash2'], axis=1, inplace=True)"
   ]
  },
  {
   "cell_type": "code",
   "execution_count": 267,
   "metadata": {
    "collapsed": false
   },
   "outputs": [],
   "source": [
    "gb = experiment_df.groupby('treatment_group_key')"
   ]
  },
  {
   "cell_type": "code",
   "execution_count": 531,
   "metadata": {
    "collapsed": false
   },
   "outputs": [
    {
     "data": {
      "text/html": [
       "<div>\n",
       "<table border=\"1\" class=\"dataframe\">\n",
       "  <thead>\n",
       "    <tr>\n",
       "      <th></th>\n",
       "      <th colspan=\"2\" halign=\"left\">response</th>\n",
       "    </tr>\n",
       "    <tr>\n",
       "      <th></th>\n",
       "      <th>sum</th>\n",
       "      <th>count</th>\n",
       "    </tr>\n",
       "    <tr>\n",
       "      <th>treatment_group_key</th>\n",
       "      <th></th>\n",
       "      <th></th>\n",
       "    </tr>\n",
       "  </thead>\n",
       "  <tbody>\n",
       "    <tr>\n",
       "      <th>t1</th>\n",
       "      <td>679</td>\n",
       "      <td>2051</td>\n",
       "    </tr>\n",
       "    <tr>\n",
       "      <th>t10</th>\n",
       "      <td>642</td>\n",
       "      <td>1953</td>\n",
       "    </tr>\n",
       "    <tr>\n",
       "      <th>t2</th>\n",
       "      <td>718</td>\n",
       "      <td>2072</td>\n",
       "    </tr>\n",
       "    <tr>\n",
       "      <th>t3</th>\n",
       "      <td>671</td>\n",
       "      <td>2020</td>\n",
       "    </tr>\n",
       "    <tr>\n",
       "      <th>t4</th>\n",
       "      <td>659</td>\n",
       "      <td>2018</td>\n",
       "    </tr>\n",
       "    <tr>\n",
       "      <th>t5</th>\n",
       "      <td>726</td>\n",
       "      <td>2100</td>\n",
       "    </tr>\n",
       "    <tr>\n",
       "      <th>t6</th>\n",
       "      <td>672</td>\n",
       "      <td>1968</td>\n",
       "    </tr>\n",
       "    <tr>\n",
       "      <th>t7</th>\n",
       "      <td>652</td>\n",
       "      <td>1996</td>\n",
       "    </tr>\n",
       "    <tr>\n",
       "      <th>t8</th>\n",
       "      <td>698</td>\n",
       "      <td>2015</td>\n",
       "    </tr>\n",
       "    <tr>\n",
       "      <th>t9</th>\n",
       "      <td>692</td>\n",
       "      <td>2043</td>\n",
       "    </tr>\n",
       "  </tbody>\n",
       "</table>\n",
       "</div>"
      ],
      "text/plain": [
       "                    response      \n",
       "                         sum count\n",
       "treatment_group_key               \n",
       "t1                       679  2051\n",
       "t10                      642  1953\n",
       "t2                       718  2072\n",
       "t3                       671  2020\n",
       "t4                       659  2018\n",
       "t5                       726  2100\n",
       "t6                       672  1968\n",
       "t7                       652  1996\n",
       "t8                       698  2015\n",
       "t9                       692  2043"
      ]
     },
     "execution_count": 531,
     "metadata": {},
     "output_type": "execute_result"
    }
   ],
   "source": [
    "gb.agg(['sum', 'count'])    \n",
    "# The SUM produces the number iof emails opened\n",
    "# The COUNT produces the total emails sent"
   ]
  },
  {
   "cell_type": "markdown",
   "metadata": {},
   "source": [
    "### Simulation Set Up"
   ]
  },
  {
   "cell_type": "code",
   "execution_count": 529,
   "metadata": {
    "collapsed": false
   },
   "outputs": [],
   "source": [
    "n_bandits = gb.size().shape[0]\n",
    "test_labels = [i for i in gb.size().index]\n",
    "\n",
    "# number of iterations in simulation:  reccomended 20000\n",
    "mcmc_iters = 25000"
   ]
  },
  {
   "cell_type": "markdown",
   "metadata": {},
   "source": [
    "### Thompson Sampling\n",
    "\n",
    "In the above data, some arms have slightly better open rates (successes) than others. These 'wining' arms will get more weigth allocation in the next round.\n",
    "\n",
    "The allocations are deciding by simulating a Beta distribution with alpha=successes, beta=failures\n"
   ]
  },
  {
   "cell_type": "code",
   "execution_count": 509,
   "metadata": {
    "collapsed": false
   },
   "outputs": [],
   "source": [
    "# Beta distributions simulation\n",
    "# Generates Beta arrays, 1 per bandit (each have a different alpha/beta params])\n",
    "\n",
    "alphas = gb.sum().values                 # number of successes\n",
    "betas = (gb.count() - gb.sum()).values   # failures == total - successes\n",
    "\n",
    "beta_dist = np.empty(shape=(mcmc_iters, n_bandits))\n",
    "\n",
    "for n in range(n_bandits):\n",
    "    beta_dist[:, n] = np.random.beta(np.asscalar(alphas[n]), np.asscalar(betas[n]), size=(mcmc_iters))"
   ]
  },
  {
   "cell_type": "code",
   "execution_count": 510,
   "metadata": {
    "collapsed": true
   },
   "outputs": [],
   "source": [
    "# Calculates the MAX per row\n",
    "betas_argmax = np.zeros(shape=mcmc_iters)\n",
    "betas_argmax = beta_dist.argmax(1)"
   ]
  },
  {
   "cell_type": "code",
   "execution_count": 511,
   "metadata": {
    "collapsed": false
   },
   "outputs": [],
   "source": [
    "# creates 1-hot encoded matrix with 1 at the position indicated by betas_argmax\n",
    "betas_mask = np.zeros(shape=(mcmc_iters, n_bandits))\n",
    "betas_mask[np.arange(mcmc_iters), betas_argmax] = 1"
   ]
  },
  {
   "cell_type": "code",
   "execution_count": 512,
   "metadata": {
    "collapsed": false
   },
   "outputs": [],
   "source": [
    "# posterior allocations\n",
    "# Multiply betas * betas_max and sums by bandit\n",
    "\n",
    "new_bandits = sum(betas_mask * beta_dist)\n",
    "sample_sizes = alphas.ravel() + betas.ravel()\n",
    "posteriors_nume = np.sqrt(sample_sizes) * new_bandits\n",
    "posteriors_denom = sum(posteriors_nume)\n",
    "posteriors = posteriors_nume / posteriors_denom"
   ]
  },
  {
   "cell_type": "code",
   "execution_count": 520,
   "metadata": {
    "collapsed": true
   },
   "outputs": [],
   "source": [
    "# old allocations\n",
    "old_prob = gb.count().values / sum(gb.count().values)"
   ]
  },
  {
   "cell_type": "markdown",
   "metadata": {},
   "source": [
    "### Visualiztion of next round allocations"
   ]
  },
  {
   "cell_type": "code",
   "execution_count": 575,
   "metadata": {
    "collapsed": false
   },
   "outputs": [
    {
     "data": {
      "image/png": "[encoded data removed]",
      "text/plain": [
       "<matplotlib.figure.Figure at 0x7f5298364f28>"
      ]
     },
     "metadata": {},
     "output_type": "display_data"
    }
   ],
   "source": [
    "# Viz of Allocation change\n",
    "ind = np.arange(n_bandits)  # the x locations for the groups\n",
    "width = 0.35  # the width of the bars\n",
    "\n",
    "fig, ax = plt.subplots()\n",
    "rects1 = ax.bar(ind - width/2, posteriors, width, \n",
    "                color='SkyBlue', label='new weigths')\n",
    "rects2 = ax.bar(ind + width/2, old_prob, width,\n",
    "                color='IndianRed', label='old allocation')\n",
    "\n",
    "# Add some text for labels, title and custom x-axis tick labels, etc.\n",
    "ax.set_title('MAB Allocations')\n",
    "ax.set_xticks(ind)\n",
    "ax.set_xticklabels(test_labels)\n",
    "ax.legend()\n",
    "\n",
    "ax.set_ylim(0, 0.4)  # vertical axis max value\n",
    "\n",
    "plt.show()"
   ]
  },
  {
   "cell_type": "markdown",
   "metadata": {},
   "source": [
    "### Potential Value Remaining\n",
    "\n",
    "source: https://support.google.com/analytics/answer/2846882?hl=en\n",
    "\n",
    "This metric can be used as stop criteria for the MAB.\n",
    "\n",
    "The metric is calculated as distribution of the differences of the overall winning arm versus the highest arm in each simulated row; then the 95th percentile is taken as the PVR."
   ]
  },
  {
   "cell_type": "code",
   "execution_count": 545,
   "metadata": {
    "collapsed": true
   },
   "outputs": [],
   "source": [
    "# previously, we calculated the argmax per row, or the arm that has the largest value in each row of the simulation\n",
    "# betas_argmax : has the index of the largest value\n",
    "# betas_mask: 1-hot encoded matrix\n",
    "\n",
    "winning_arm_idx = posteriors.argmax()\n",
    "pvrs = np.zeros(shape=mcmc_iters)\n",
    "\n",
    "max_elems = np.sum(beta_dist * betas_mask, axis=1)\n",
    "pvrs = max_elems - beta_dist[:, winning_arm_idx] "
   ]
  },
  {
   "cell_type": "code",
   "execution_count": 572,
   "metadata": {
    "collapsed": false
   },
   "outputs": [
    {
     "data": {
      "image/png": "[encoded data removed]",
      "text/plain": [
       "<matplotlib.figure.Figure at 0x7f51e3ac2e48>"
      ]
     },
     "metadata": {},
     "output_type": "display_data"
    }
   ],
   "source": [
    "nn, bins, patches = plt.hist(pvrs, 50, normed=1, facecolor='g')\n",
    "prc_95 = np.percentile(pvrs, 95) * 100\n",
    "legend = 'PVR (95th) = {:.2f}%'.format(prc_95)\n",
    "plt.ylabel('PVR')\n",
    "plt.title(legend)\n",
    "plt.grid(True)\n",
    "plt.show()"
   ]
  },
  {
   "cell_type": "markdown",
   "metadata": {
    "collapsed": true
   },
   "source": [
    "## Appendix"
   ]
  },
  {
   "cell_type": "code",
   "execution_count": 574,
   "metadata": {
    "collapsed": false
   },
   "outputs": [
    {
     "data": {
      "image/png": "[encoded data removed]",
      "text/plain": [
       "<matplotlib.figure.Figure at 0x7f524395e2e8>"
      ]
     },
     "metadata": {},
     "output_type": "display_data"
    }
   ],
   "source": [
    "# Visualize simulated Beta vs actiual Beta\n",
    "n = 7 # pick any arm\n",
    "y = beta_dist[:,n]\n",
    "x = np.linspace(0.0, 1.0, mcmc_iters)\n",
    "fig, ax = plt.subplots()\n",
    "\n",
    "f = lambda a, b : stats.beta.pdf(x, a, b)\n",
    "plot_pdf = lambda a, b : ax.plot(x, f(a,b), label=r'$\\alpha$={0}, $\\beta$={1}'.format(a,b))\n",
    "\n",
    "plot_pdf(alphas[n], betas[n])\n",
    "\n",
    "ax.hist(y, bins=100)\n",
    "plt.legend(loc='upper center', frameon=False)\n",
    "plt.show()"
   ]
  },
  {
   "cell_type": "code",
   "execution_count": 349,
   "metadata": {
    "collapsed": false
   },
   "outputs": [
    {
     "data": {
      "text/plain": [
       "array([  4.94977012e-03,   4.94859281e-03,   1.78220584e+01,\n",
       "         5.00472101e-03,   4.93616358e-03,   1.08703894e+01,\n",
       "         7.24382018e+00,   4.95478630e-03,   1.77991550e+01,\n",
       "         5.10369702e-03])"
      ]
     },
     "execution_count": 349,
     "metadata": {},
     "output_type": "execute_result"
    }
   ],
   "source": [
    "# approximation to avoid a second matrix\n",
    "# multiply the maxarg by factor, sum across and divide by same factor\n",
    "# all matrix elements lower than argmax will contribute very little\n",
    "beta_dist[np.arange(mcmc_iters), betas_argmax] *= 10000\n",
    "sum(beta_dist)/1000"
   ]
  },
  {
   "cell_type": "code",
   "execution_count": 355,
   "metadata": {
    "collapsed": false
   },
   "outputs": [],
   "source": [
    "beta_dist[np.arange(mcmc_iters), betas_argmax] /= 10000"
   ]
  }
 ],
 "metadata": {
  "kernelspec": {
   "display_name": "Python 3 (General DS)",
   "language": "python",
   "name": "python3"
  },
  "language_info": {
   "codemirror_mode": {
    "name": "ipython",
    "version": 3
   },
   "file_extension": ".py",
   "mimetype": "text/x-python",
   "name": "python",
   "nbconvert_exporter": "python",
   "pygments_lexer": "ipython3",
   "version": "3.4.2"
  }
 },
 "nbformat": 4,
 "nbformat_minor": 2
}
